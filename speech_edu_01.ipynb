{
 "cells": [
  {
   "cell_type": "code",
   "execution_count": null,
   "metadata": {},
   "outputs": [],
   "source": [
    "import librosa\n",
    "import numpy as np\n",
    "import pandas as pd\n",
    "import matplotlib.pyplot as plt\n",
    "\n",
    "import torch\n",
    "import torchaudio"
   ]
  },
  {
   "cell_type": "code",
   "execution_count": null,
   "metadata": {},
   "outputs": [],
   "source": [
    "# dpwmload audio dataset\n",
    "test_dataset = torchaudio.datasets.LIBRISPEECH(\"./\", url=\"test-clean\", download=True)"
   ]
  },
  {
   "cell_type": "code",
   "execution_count": null,
   "metadata": {},
   "outputs": [],
   "source": [
    "# 1 waveform\n",
    "# 2 samplerate\n",
    "# 3 transcript\n",
    "# 4 speaker_id\n",
    "# 5 chapter_id\n",
    "# 6 utterace_id\n",
    "test_dataset[0]"
   ]
  },
  {
   "cell_type": "code",
   "execution_count": null,
   "metadata": {},
   "outputs": [],
   "source": [
    "test_dataset[0][0].shape"
   ]
  },
  {
   "cell_type": "code",
   "execution_count": null,
   "metadata": {},
   "outputs": [],
   "source": [
    "len(test_dataset[0][0][0]) / test_dataset[0][1]"
   ]
  },
  {
   "cell_type": "code",
   "execution_count": null,
   "metadata": {},
   "outputs": [],
   "source": [
    "audioData = test_dataset[0][0][0]\n",
    "sr = test_dataset[0][1]"
   ]
  },
  {
   "cell_type": "code",
   "execution_count": null,
   "metadata": {},
   "outputs": [],
   "source": [
    "import IPython.display as ipd"
   ]
  },
  {
   "cell_type": "code",
   "execution_count": null,
   "metadata": {},
   "outputs": [],
   "source": [
    "ipd.Audio(audioData, rate=17000)"
   ]
  },
  {
   "cell_type": "code",
   "execution_count": null,
   "metadata": {},
   "outputs": [],
   "source": [
    "y_8k = librosa.resample(audioData.numpy(), sr, sr // 2)\n",
    "len(y_8k)"
   ]
  },
  {
   "cell_type": "code",
   "execution_count": null,
   "metadata": {},
   "outputs": [],
   "source": [
    "ipd.Audio(y_8k, rate=8000)"
   ]
  },
  {
   "cell_type": "code",
   "execution_count": null,
   "metadata": {},
   "outputs": [],
   "source": [
    "y_4k = librosa.resample(audioData.numpy(), sr, sr // 4)\n",
    "len(y_4k)"
   ]
  },
  {
   "cell_type": "code",
   "execution_count": null,
   "metadata": {},
   "outputs": [],
   "source": [
    "ipd.Audio(y_4k, rate=4000)"
   ]
  },
  {
   "cell_type": "code",
   "execution_count": null,
   "metadata": {},
   "outputs": [],
   "source": []
  },
  {
   "cell_type": "code",
   "execution_count": null,
   "metadata": {},
   "outputs": [],
   "source": [
    "audioData"
   ]
  },
  {
   "cell_type": "code",
   "execution_count": null,
   "metadata": {},
   "outputs": [],
   "source": [
    "audio_np = audioData.numpy()\n",
    "norm_audio = audio_np / max(np.abs(audio_np))\n",
    "ipd.Audio(norm_audio, rate=sr)"
   ]
  },
  {
   "cell_type": "code",
   "execution_count": null,
   "metadata": {},
   "outputs": [],
   "source": [
    "norm_audio"
   ]
  },
  {
   "cell_type": "code",
   "execution_count": null,
   "metadata": {},
   "outputs": [],
   "source": [
    "Bit = 8\n",
    "max_value = 2 ** (Bit - 1)\n",
    "\n",
    "quantized_audio = norm_audio * max_value\n",
    "quantized_audio = np.round(quantized_audio).astype(int)\n",
    "quantized_audio = np.clip(quantized_audio, -max_value, max_value - 1)\n",
    "\n",
    "ipd.Audio(quantized_audio, rate=sr)"
   ]
  },
  {
   "cell_type": "code",
   "execution_count": null,
   "metadata": {},
   "outputs": [],
   "source": [
    "quantized_audio[20000:20100]"
   ]
  },
  {
   "cell_type": "code",
   "execution_count": null,
   "metadata": {},
   "outputs": [],
   "source": [
    "import librosa.display"
   ]
  },
  {
   "cell_type": "code",
   "execution_count": null,
   "metadata": {},
   "outputs": [],
   "source": [
    "audio_np = audio_np\n",
    "\n",
    "fig = plt.figure(figsize=(14,5))\n",
    "librosa.display.waveplot(audio_np[10000:13000], sr=sr)"
   ]
  },
  {
   "cell_type": "code",
   "execution_count": null,
   "metadata": {},
   "outputs": [],
   "source": [
    "S = librosa.core.stft(audio_np, n_fft=1024, hop_length=512, win_length=1024)\n",
    "audio_np.shape, S.shape"
   ]
  },
  {
   "cell_type": "code",
   "execution_count": null,
   "metadata": {},
   "outputs": [],
   "source": [
    "S"
   ]
  },
  {
   "cell_type": "code",
   "execution_count": null,
   "metadata": {},
   "outputs": [],
   "source": [
    "D = np.abs(S) ** 2\n",
    "D, D.shape"
   ]
  },
  {
   "cell_type": "code",
   "execution_count": null,
   "metadata": {},
   "outputs": [],
   "source": [
    "log_S = librosa.power_to_db(S, ref=np.max)\n",
    "\n",
    "plt.figure(figsize=(12,4))\n",
    "librosa.display.specshow(log_S, sr=16000, x_axis='time')"
   ]
  },
  {
   "cell_type": "code",
   "execution_count": null,
   "metadata": {},
   "outputs": [],
   "source": [
    "def frame_audio(audio, FFT_size=1024, hop_size=20, sample_rate = 22050):\n",
    "    audio = np.pad(audio, int(FFT_size/2), mode='reflect')\n",
    "    frame_len = np.round(sample_rate*hop_size / 1000).astype(int)\n",
    "    frame_num = int((len(audio) - FFT_size) / frame_len) + 1\n",
    "    frames = np.zeros((frame_num, FFT_size))\n",
    "    \n",
    "    for n in range(frame_num):\n",
    "        frames[n] = audio[n*frame_len:n*frame_len+FFT_size]\n",
    "    return frames\n",
    "\n",
    "audio_framed = frame_audio(audio_np)\n",
    "print(\"Framed audio shape: {}\".format(audio_framed.shape))"
   ]
  },
  {
   "cell_type": "code",
   "execution_count": null,
   "metadata": {},
   "outputs": [],
   "source": [
    "from scipy import signal\n",
    "\n",
    "window = signal.get_window('hann', 1024, fftbins=True)\n",
    "audio_win = audio_framed * window\n",
    "ind = 1\n",
    "\n",
    "# window plot\n",
    "plt.figure(figsize=(15,6))\n",
    "plt.subplot(3,1,1)\n",
    "plt.plot(window)\n",
    "plt.grid(True)\n",
    "\n",
    "# frame plot\n",
    "plt.subplot(3,1,2)\n",
    "plt.plot(audio_framed[ind])\n",
    "plt.grid(True)\n",
    "\n",
    "# frame * win plot\n",
    "plt.subplot(3,1,3)\n",
    "plt.plot(audio_win[ind])\n",
    "plt.grid(True)"
   ]
  },
  {
   "cell_type": "code",
   "execution_count": null,
   "metadata": {},
   "outputs": [],
   "source": [
    "D = D"
   ]
  },
  {
   "cell_type": "code",
   "execution_count": null,
   "metadata": {},
   "outputs": [],
   "source": [
    "mel_basis = librosa.filters.mel(16000, 1024, n_mels=40)\n",
    "mel_S = np.dot(mel_basis, D)\n",
    "mel_S.shape"
   ]
  },
  {
   "cell_type": "code",
   "execution_count": null,
   "metadata": {},
   "outputs": [],
   "source": [
    "plt.figure(figsize=(12,4))\n",
    "log_mel_S = librosa.power_to_db(mel_S)\n",
    "librosa.display.specshow(log_mel_S, sr=sr, x_axis='time', y_axis='mel')\n",
    "plt.title('Mel power sepctrogram')\n",
    "plt.colorbar(format='%+02.0f dB')\n",
    "plt.tight_layout()"
   ]
  },
  {
   "cell_type": "code",
   "execution_count": null,
   "metadata": {},
   "outputs": [],
   "source": [
    "mfcc = librosa.feature.mfcc(S=log_mel_S, n_mfcc=13)\n",
    "mfcc = mfcc.astype(np.float32)    # to save the memory (64 to 32 bits)\n",
    "plt.figure(figsize=(12,4))\n",
    "print(mfcc.shape)\n",
    "librosa.display.specshow(mfcc)"
   ]
  },
  {
   "cell_type": "code",
   "execution_count": null,
   "metadata": {},
   "outputs": [],
   "source": []
  },
  {
   "cell_type": "code",
   "execution_count": null,
   "metadata": {},
   "outputs": [],
   "source": []
  }
 ],
 "metadata": {
  "kernelspec": {
   "display_name": "Python 3",
   "language": "python",
   "name": "python3"
  },
  "language_info": {
   "codemirror_mode": {
    "name": "ipython",
    "version": 3
   },
   "file_extension": ".py",
   "mimetype": "text/x-python",
   "name": "python",
   "nbconvert_exporter": "python",
   "pygments_lexer": "ipython3",
   "version": "3.6.9"
  }
 },
 "nbformat": 4,
 "nbformat_minor": 2
}
